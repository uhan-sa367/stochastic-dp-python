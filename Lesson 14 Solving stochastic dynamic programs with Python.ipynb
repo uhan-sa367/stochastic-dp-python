{
 "cells": [
  {
   "cell_type": "markdown",
   "metadata": {
    "hide_cell": true
   },
   "source": [
    "**SA367 &#x25aa; Mathematical Models for Decision Making &#x25aa; Spring 2022 &#x25aa; Uhan**"
   ]
  },
  {
   "cell_type": "markdown",
   "metadata": {
    "hide_cell": true
   },
   "source": [
    "# Lesson 14. Solving stochastic dynamic programs with Python"
   ]
  },
  {
   "cell_type": "markdown",
   "metadata": {},
   "source": [
    "## Overview"
   ]
  },
  {
   "cell_type": "markdown",
   "metadata": {},
   "source": [
    "* Let's solve the stochastic dynamic program we formulated for the investment problem in Lesson 13\n",
    "\n",
    "\n",
    "* In this class, we will use a package called `stochasticdp` to set up and solve stochastic dynamic programs\n",
    "    - _Warning._ This is a package that I wrote. There may be some bugs.\n",
    "    - _Note._ This package is publicly available. Please feel free to use it in the future for other things. The source code is on [GitHub](https://github.com/nelsonuhan/stochasticdp).\n"
   ]
  },
  {
   "cell_type": "markdown",
   "metadata": {},
   "source": [
    "## Setting up a stochastic dynamic program"
   ]
  },
  {
   "cell_type": "markdown",
   "metadata": {},
   "source": [
    "* To use `stochasticdp`, we must first import it. In `stochasticdp`, we only need the object `StochasticDP`, so we can perform our import like this:"
   ]
  },
  {
   "cell_type": "code",
   "execution_count": null,
   "metadata": {},
   "outputs": [],
   "source": [
    "from stochasticdp import StochasticDP"
   ]
  },
  {
   "cell_type": "markdown",
   "metadata": {},
   "source": [
    "* Recall the investment problem from Lesson 13:"
   ]
  },
  {
   "cell_type": "markdown",
   "metadata": {},
   "source": [
    "__Problem.__ Suppose you have \\\\$5,000 to invest. Over the next 3 years, you want to double your money.\n",
    "At the beginning of each of the next 3 years, you have an opportunity to invest in one of two investments: A or B. Both investments have uncertain profits. For an investment of \\\\$5,000, the profits are as follows:\n",
    "\n",
    "\n",
    "| Investment | Profit (\\$) | Probability |\n",
    "|:-----------|------------:|------------:|\n",
    "| A          | -5,000      | 0.3         |\n",
    "|            | 5,000       | 0.7         |\n",
    "| B          | 0           | 0.9         |\n",
    "|            | 5,000       | 0.1         |\n",
    "                                     \n",
    "You are allowed to make at most one investment each year, and can invest only \\\\$5,000 each time. Any additional money accumulated is left idle. Once you've accumulated \\\\$10,000, you stop investing.\n",
    "\n",
    "Formulate a stochastic dynamic program to find an investment policy that maximizes the probability you will have \\$10,000 after 3 years."
   ]
  },
  {
   "cell_type": "markdown",
   "metadata": {},
   "source": [
    "* Let's walk through setting up the stochastic DP we formulated for this problem"
   ]
  },
  {
   "cell_type": "markdown",
   "metadata": {},
   "source": [
    "### Initialization"
   ]
  },
  {
   "cell_type": "markdown",
   "metadata": {},
   "source": [
    "* We had defined 4 stages\n",
    "\n",
    "\n",
    "* To make things easier, let's renumber the stages so they start at $t = 0$:\n",
    "\n",
    "$$\n",
    "\\begin{aligned}\n",
    "\\text{stage } t = 0, 1, 2 & \\quad\\leftrightarrow\\quad \\text{beginning of year $t$}\\\\\n",
    "t = 3 & \\quad\\leftrightarrow\\quad \\text{end of process}\n",
    "\\end{aligned}\n",
    "$$\n",
    "    \n",
    "\n",
    "* In each stage, we defined 3 states:\n",
    "\n",
    "$$\n",
    "\\text{state } n \\in \\{0, 5000, 10000\\} \\quad\\leftrightarrow\\quad \\text{$n$ dollars in account}\n",
    "$$\n",
    "\n",
    "\n",
    "* At each stage and state, we defined 3 possible decisions:\n",
    "\n",
    "$$\n",
    "\\text{decision } x_t \\in \\{ \\text{A}, \\text{B}, \\text{no investment} \\}\n",
    "$$\n",
    "\n",
    "\n",
    "* The set of _allowable_ decisions changed, depending on the stage and state &mdash; we'll address this later\n",
    "\n",
    "\n",
    "* For now, we can initialize a stochastic dynamic program with these stages, states, and decisions like this:"
   ]
  },
  {
   "cell_type": "code",
   "execution_count": null,
   "metadata": {},
   "outputs": [],
   "source": []
  },
  {
   "cell_type": "markdown",
   "metadata": {},
   "source": [
    "* The code above initializes a stochastic dynamic program called `dp`\n",
    "\n",
    "* Next, we need to add every transition that occurs with positive probability"
   ]
  },
  {
   "cell_type": "markdown",
   "metadata": {},
   "source": [
    "### Transition probabilities and contributions"
   ]
  },
  {
   "cell_type": "markdown",
   "metadata": {},
   "source": [
    "* First, let's tackle transitions from the state $n = 5000$:\n",
    "\n",
    "<center><img src=\"img/5000.png\" width=\"600\"></center>"
   ]
  },
  {
   "cell_type": "markdown",
   "metadata": {},
   "source": [
    "* We can add a transition from state $n$ to state $m$ in stage $t$ under decision $x$ with probability $p(m \\,|\\, n, t, x)$ and contribution $c(m \\,|\\, n, t, x)$ as follows:\n",
    "\n",
    "    ```python\n",
    "    dp.add_transition(stage=t, from_state=n, decision=x, to_state=n, probability=p, contribution=c)\n",
    "    ```\n",
    "\n",
    "\n",
    "* Remember that the contributions for all transitions are 0 in this stochastic DP\n",
    "\n",
    "\n",
    "* So, we can input the transition probabilities and contributions from state $n = 5000$ in stages $t = 0, 1, 2$ as follows:"
   ]
  },
  {
   "cell_type": "code",
   "execution_count": null,
   "metadata": {},
   "outputs": [],
   "source": []
  },
  {
   "cell_type": "markdown",
   "metadata": {},
   "source": [
    "* _Quick check._ What can the sum of the transition probabilities from any decision node equal?"
   ]
  },
  {
   "cell_type": "markdown",
   "metadata": {},
   "source": [
    "_Write your notes here. Double-click to edit._"
   ]
  },
  {
   "cell_type": "markdown",
   "metadata": {},
   "source": [
    "* Next, let's tackle the transitions from state $n = 0$:\n",
    "\n",
    "<center><img src=\"img/0.png\" width=\"600\"></center>"
   ]
  },
  {
   "cell_type": "markdown",
   "metadata": {},
   "source": [
    "* So, we can input the transition probabilities and contributions from state $n = 0$ in stages $t = 0, 1, 2$ like this:"
   ]
  },
  {
   "cell_type": "code",
   "execution_count": null,
   "metadata": {},
   "outputs": [],
   "source": []
  },
  {
   "cell_type": "markdown",
   "metadata": {},
   "source": [
    "* We can tackle the transitions from state $n = 10000$ in an almost identical way:\n",
    "\n",
    "<center><img src=\"img/10000.png\" width=\"600\"></center>"
   ]
  },
  {
   "cell_type": "code",
   "execution_count": null,
   "metadata": {},
   "outputs": [],
   "source": []
  },
  {
   "cell_type": "markdown",
   "metadata": {},
   "source": [
    "### Boundary conditions"
   ]
  },
  {
   "cell_type": "markdown",
   "metadata": {},
   "source": [
    "* Finally, we need to define the boundary conditions:\n",
    "\n",
    "$$\n",
    "f_3(10000) = 1 \\qquad f_3(5000) = 0 \\qquad f_3(0) = 0\n",
    "$$\n",
    "\n",
    "* In particular, we need to specify the value-to-go function at the last stage (in our case, $t = 3$) for each state\n",
    "\n",
    "* We can add the boundary conditions for state $n$ like this:\n",
    "\n",
    "```python\n",
    "dp.add_boundary(state=0, value=0)\n",
    "```\n",
    "\n",
    "* So, let's add the boundary conditions for our problem:"
   ]
  },
  {
   "cell_type": "code",
   "execution_count": null,
   "metadata": {
    "tags": []
   },
   "outputs": [],
   "source": []
  },
  {
   "cell_type": "markdown",
   "metadata": {},
   "source": [
    "## Solving the stochastic dynamic program"
   ]
  },
  {
   "cell_type": "markdown",
   "metadata": {},
   "source": [
    "* Once the stochastic DP is setup, we can solve it like this:"
   ]
  },
  {
   "cell_type": "code",
   "execution_count": null,
   "metadata": {},
   "outputs": [],
   "source": []
  },
  {
   "cell_type": "markdown",
   "metadata": {},
   "source": [
    "* Note that the method `.solve()` outputs two objects: `value` and `policy`\n",
    "\n",
    "\n",
    "* `value[t, n]` is the value-to-go function $f_t(n)$ at stage $t$ and state $n$\n",
    "\n",
    "\n",
    "* `policy[t, n]` is the optimal decision $x_t^*$ that attains the value-to-go function $f_t(n)$ at stage $t$ and state $n$\n",
    "\n",
    "* First, let's see what the value-to-go function looks like:"
   ]
  },
  {
   "cell_type": "code",
   "execution_count": null,
   "metadata": {},
   "outputs": [],
   "source": [
    "# Examine the value-to-go function\n",
    "print(value)"
   ]
  },
  {
   "cell_type": "markdown",
   "metadata": {},
   "source": [
    "* Next, let's look at the corresponding policy:"
   ]
  },
  {
   "cell_type": "code",
   "execution_count": null,
   "metadata": {},
   "outputs": [],
   "source": [
    "# Examine the policy\n",
    "print(policy)"
   ]
  },
  {
   "cell_type": "markdown",
   "metadata": {},
   "source": [
    "## On your own"
   ]
  },
  {
   "cell_type": "markdown",
   "metadata": {},
   "source": [
    "__Problem.__ The Hit-and-Miss Manufacturing Company has received an order to supply one item of a particular type. However, manufacturing this item is difficult, and the customer has specified such stringent quality requirements that the company may have to produce more than one item to obtain an item that is acceptable.\n",
    "                \n",
    "The company estimates that each item of this type will be acceptable with probability 1/2 and defective with probability 1/2. Each item costs \\\\$100 to produce, and excess items are worthless. In addition, a setup cost of \\\\$300 must be incurred whenever the production process is setup for this item. The company has time to make no more than 3 production runs, and at most 5 items can be produced in each run. If an acceptable item has not been obtained by the end of the third production run, the manufacturer is in breach of contract and must pay a penalty of \\\\$1600.\n",
    "                \n",
    "The objective is to determine how many items to produce in each production run in order to minimize the total expected cost.\n",
    "\n",
    "Solve the stochastic DP we formulated in Lesson 13 for this problem."
   ]
  },
  {
   "cell_type": "code",
   "execution_count": null,
   "metadata": {},
   "outputs": [],
   "source": []
  },
  {
   "cell_type": "markdown",
   "metadata": {},
   "source": [
    "---"
   ]
  },
  {
   "cell_type": "markdown",
   "metadata": {},
   "source": [
    "## Problems"
   ]
  },
  {
   "cell_type": "markdown",
   "metadata": {},
   "source": [
    "### Problem 1 (Baytheon, revisited)"
   ]
  },
  {
   "cell_type": "markdown",
   "metadata": {},
   "source": [
    "Baytheon has received an order to supply 2 guided missiles. In order to meet stringent quality requirements, the company may have to manufacture more than one missile to obtain an missile that is acceptable. The company has time to make no more than 3 production runs, and at most 2 missiles can be produced in each run. The probability distribution of acceptable missiles in a given run depends on how many missiles are produced:\n",
    "\n",
    "| Number of missiles produced | Prob. of 0 acceptable missiles | Prob. of 1 acceptable missile | Prob. of 2 acceptable missiles |\n",
    "|-----------------------------|--------------------------------|-------------------------------|--------------------------------| \n",
    "| 0                           | 1                              | 0                             | 0                              |\n",
    "| 1                           | 1/3                            | 2/3                           | 0                              |\n",
    "| 2                           | 1/4                            | 1/2                           | 1/4                            |\n",
    "    \n",
    "\n",
    "Each missile costs \\\\$100,000 to produce, and excess missiles are worthless. In addition, a setup cost of \\\\$50,000 must be incurred whenever the production process is setup for this item. If 2 acceptable missiles have not been obtained by the end of the third production run, Baytheon is in breach of contract and must pay a penalty of \\\\$1,000,000. The objective is to determine how many missiles to produce in each production run in order to minimize the total expected cost.\n",
    "\n",
    "Once upon a time, for homework, you formulated this problem as a stochastic dynamic program. (Note that the penalty value has changed.)\n",
    "\n",
    "1. Solve your dynamic program using `stochasticdp`.\n",
    "2. Interpret the output of your stochastic dynamic program."
   ]
  },
  {
   "cell_type": "code",
   "execution_count": null,
   "metadata": {},
   "outputs": [],
   "source": []
  },
  {
   "cell_type": "markdown",
   "metadata": {},
   "source": [
    "_Write your notes here. Double-click to edit._"
   ]
  },
  {
   "cell_type": "markdown",
   "metadata": {},
   "source": [
    "### Problem 2 (Farkas Investments, revisited)"
   ]
  },
  {
   "cell_type": "markdown",
   "metadata": {},
   "source": [
    "You have recently been hired as a junior analyst at Farkas Investments. You have been given \\$4 million to invest over the next 3 years. At the beginning of each of the next 3 years, you can invest in one of two investments: A or B.\n",
    "\n",
    "| Investment | Cost (\\$ millions) | Profit (\\$ millions) | Probability |\n",
    "|:-----------|:-------------------|:---------------------|:------------|\n",
    "| A          | 3                  | 2                    | 0.5         |\n",
    "|            |                    | -2                   | 0.5         |\n",
    "| B          | 5                  | 3                    | 0.1         |\n",
    "|            |                    | -1                   | 0.9         |\n",
    "\n",
    "You are allowed to make at most one investment each year. Any additional money accumulated is left idle. You may not borrow money to invest; that is, you cannot buy into an investment if it costs more than you currently have.\n",
    "\n",
    "Formulate a stochastic dynamic program to find an investment policy that maximizes the probability you will have at least \\$10 million at the end of 3 years.\n",
    "\n",
    "Once upon a time, for homework, you formulated this problem as a stochastic dynamic program.\n",
    "\n",
    "1. Solve your dynamic program using `stochasticdp`.\n",
    "2. Interpret the output of your stochastic dynamic program."
   ]
  },
  {
   "cell_type": "code",
   "execution_count": null,
   "metadata": {},
   "outputs": [],
   "source": []
  },
  {
   "cell_type": "markdown",
   "metadata": {},
   "source": [
    "_Write your notes here. Double-click to edit._"
   ]
  }
 ],
 "metadata": {
  "kernelspec": {
   "display_name": "Python 3 (ipykernel)",
   "language": "python",
   "name": "python3"
  },
  "language_info": {
   "codemirror_mode": {
    "name": "ipython",
    "version": 3
   },
   "file_extension": ".py",
   "mimetype": "text/x-python",
   "name": "python",
   "nbconvert_exporter": "python",
   "pygments_lexer": "ipython3",
   "version": "3.8.10"
  },
  "latex_metadata": {
   "title": "Lesson 19. Solving Stochastic Dynamic Programs with Python"
  }
 },
 "nbformat": 4,
 "nbformat_minor": 4
}
